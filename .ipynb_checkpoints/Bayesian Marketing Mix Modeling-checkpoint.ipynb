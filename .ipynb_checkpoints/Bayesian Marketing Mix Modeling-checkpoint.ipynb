{
 "cells": [
  {
   "cell_type": "code",
   "execution_count": 1,
   "id": "e234c4c2",
   "metadata": {},
   "outputs": [],
   "source": [
    "import pandas as pd\n",
    "data = pd.read_csv(   'https://raw.githubusercontent.com/Garve/datasets/4576d323bf2b66c906d5130d686245ad205505cf/mmm.csv',\n",
    "    parse_dates=['Date'],\n",
    "    index_col='Date'\n",
    ")\n",
    "X = data.drop(columns=['Sales'])\n",
    "y = data['Sales']"
   ]
  },
  {
   "cell_type": "code",
   "execution_count": 3,
   "id": "54da8118",
   "metadata": {},
   "outputs": [
    {
     "name": "stderr",
     "output_type": "stream",
     "text": [
      "WARNING (theano.configdefaults): g++ not available, if using conda: `conda install m2w64-toolchain`\n",
      "WARNING (theano.configdefaults): g++ not detected ! Theano will be unable to execute optimized C-implementations (for both CPU and GPU) and will default to Python implementations. Performance will be severely degraded. To remove this warning, set Theano flags cxx to an empty string.\n",
      "WARNING (theano.tensor.blas): Using NumPy C-API based implementation for BLAS functions.\n"
     ]
    }
   ],
   "source": [
    "import theano.tensor as tt\n",
    "def saturate(x, a):\n",
    "    return 1 - tt.exp(-a*x)\n",
    "def carryover(x, strength, length=21):\n",
    "    w = tt.as_tensor_variable(\n",
    "        [tt.power(strength, i) for i in range(length)]\n",
    "    )\n",
    "    \n",
    "    x_lags = tt.stack(\n",
    "        [tt.concatenate([\n",
    "            tt.zeros(i),\n",
    "            x[:x.shape[0]-i]\n",
    "        ]) for i in range(length)]\n",
    "    )\n",
    "    \n",
    "    return tt.dot(w, x_lags)"
   ]
  },
  {
   "cell_type": "code",
   "execution_count": null,
   "id": "84f515e4",
   "metadata": {},
   "outputs": [
    {
     "name": "stderr",
     "output_type": "stream",
     "text": [
      "Auto-assigning NUTS sampler...\n",
      "Initializing NUTS using jitter+adapt_diag...\n",
      "E:\\anaconda\\lib\\site-packages\\theano\\tensor\\elemwise.py:826: RuntimeWarning: invalid value encountered in log\n",
      "  variables = ufunc(*ufunc_args, **ufunc_kwargs)\n",
      "Multiprocess sampling (4 chains in 4 jobs)\n",
      "NUTS: [noise, base, car_Banners, sat_Banners, coef_Banners, car_Radio, sat_Radio, coef_Radio, car_TV, sat_TV, coef_TV]\n"
     ]
    },
    {
     "data": {
      "text/html": [
       "\n",
       "    <div>\n",
       "        <style>\n",
       "            /* Turns off some styling */\n",
       "            progress {\n",
       "                /* gets rid of default border in Firefox and Opera. */\n",
       "                border: none;\n",
       "                /* Needs to be in here for Safari polyfill so background images work as expected. */\n",
       "                background-size: auto;\n",
       "            }\n",
       "            .progress-bar-interrupted, .progress-bar-interrupted::-webkit-progress-bar {\n",
       "                background: #F44336;\n",
       "            }\n",
       "        </style>\n",
       "      <progress value='47' class='' max='16000' style='width:300px; height:20px; vertical-align: middle;'></progress>\n",
       "      0.29% [47/16000 00:09<52:55 Sampling 4 chains, 0 divergences]\n",
       "    </div>\n",
       "    "
      ],
      "text/plain": [
       "<IPython.core.display.HTML object>"
      ]
     },
     "metadata": {},
     "output_type": "display_data"
    }
   ],
   "source": [
    "import pymc3 as pm\n",
    "with pm.Model() as mmm:\n",
    "    channel_contributions = []\n",
    "    \n",
    "    for channel in X.columns:\n",
    "        coef = pm.Exponential(f'coef_{channel}', lam=0.0001)\n",
    "        sat = pm.Exponential(f'sat_{channel}', lam=1)\n",
    "        car = pm.Beta(f'car_{channel}', alpha=2, beta=2)\n",
    "        \n",
    "        channel_data = X[channel].values\n",
    "        channel_contribution = pm.Deterministic(\n",
    "            f'contribution_{channel}',\n",
    "            coef * saturate(\n",
    "                carryover(\n",
    "                    channel_data,\n",
    "                    car\n",
    "                ),\n",
    "                sat\n",
    "            )\n",
    "        )\n",
    "        \n",
    "        channel_contributions.append(channel_contribution)\n",
    "        \n",
    "    base = pm.Exponential('base', lam=0.0001)\n",
    "    noise = pm.Exponential('noise', lam=0.0001)\n",
    "    \n",
    "    sales = pm.Normal(\n",
    "        'sales',\n",
    "        mu=sum(channel_contributions) + base,\n",
    "        sigma=noise,\n",
    "        observed=y\n",
    "    )\n",
    "    \n",
    "    trace = pm.sample(return_inferencedata=True, tune=3000)"
   ]
  },
  {
   "cell_type": "code",
   "execution_count": null,
   "id": "adfb9d01",
   "metadata": {},
   "outputs": [],
   "source": [
    "import arviz as az\n",
    "az.plot_posterior(\n",
    "    trace,\n",
    "    var_names=['~contribution'],\n",
    "    filter_vars='like'\n",
    ")"
   ]
  },
  {
   "cell_type": "code",
   "execution_count": null,
   "id": "793a5de4",
   "metadata": {},
   "outputs": [],
   "source": [
    "az.plot_joint(\n",
    "    trace,\n",
    "    var_names=['coef_TV', 'sat_TV'],\n",
    ")"
   ]
  },
  {
   "cell_type": "code",
   "execution_count": null,
   "id": "c48ac53a",
   "metadata": {},
   "outputs": [],
   "source": [
    "az.plot_joint(\n",
    "    trace,\n",
    "    var_names=['car_TV', 'sat_TV'],\n",
    ")"
   ]
  },
  {
   "cell_type": "code",
   "execution_count": null,
   "id": "a2452370",
   "metadata": {},
   "outputs": [],
   "source": [
    "import matplotlib.pyplot as plt\n",
    "with mmm:\n",
    "    posterior = pm.sample_posterior_predictive(trace)\n",
    "means = posterior['sales'].mean(0)\n",
    "stds = posterior['sales'].std(0)\n",
    "plt.figure(figsize=(20, 8))\n",
    "plt.plot(y.values, linewidth=2, c='r', label='Observations')\n",
    "plt.plot(means, linewidth=1, c='b', label='Mean prediction')\n",
    "plt.fill_between(np.arange(len(y)), means - 2*stds, means + 2*stds, alpha=0.33)\n",
    "plt.legend()"
   ]
  },
  {
   "cell_type": "code",
   "execution_count": null,
   "id": "9d509c52",
   "metadata": {},
   "outputs": [],
   "source": [
    "def compute_mean(trace, channel):\n",
    "    return (trace\n",
    "            .posterior[f'contribution_{channel}']\n",
    "            .values\n",
    "            .reshape(4000, 200)\n",
    "            .mean(0)\n",
    "           )\n",
    "channels = ['Banners', 'Radio', 'TV']\n",
    "unadj_contributions = pd.DataFrame(\n",
    "    {'Base': trace.posterior['base'].values.mean()},\n",
    "    index=X.index\n",
    ")\n",
    "for channel in channels:\n",
    "    unadj_contributions[channel] = compute_mean(trace, channel)\n",
    "adj_contributions = (unadj_contributions\n",
    "                     .div(unadj_contributions.sum(axis=1), axis=0)\n",
    "                     .mul(y, axis=0)\n",
    "                    )\n",
    "ax = (adj_contributions\n",
    "      .plot.area(\n",
    "          figsize=(16, 10),\n",
    "          linewidth=1,\n",
    "          title='Predicted Sales and Breakdown',\n",
    "          ylabel='Sales',\n",
    "          xlabel='Date'\n",
    "      )\n",
    "     )\n",
    "    \n",
    "handles, labels = ax.get_legend_handles_labels()\n",
    "ax.legend(\n",
    "    handles[::-1], labels[::-1],\n",
    "    title='Channels', loc=\"center left\",\n",
    "    bbox_to_anchor=(1.01, 0.5)\n",
    ")"
   ]
  }
 ],
 "metadata": {
  "kernelspec": {
   "display_name": "Python 3",
   "language": "python",
   "name": "python3"
  },
  "language_info": {
   "codemirror_mode": {
    "name": "ipython",
    "version": 3
   },
   "file_extension": ".py",
   "mimetype": "text/x-python",
   "name": "python",
   "nbconvert_exporter": "python",
   "pygments_lexer": "ipython3",
   "version": "3.8.8"
  }
 },
 "nbformat": 4,
 "nbformat_minor": 5
}
